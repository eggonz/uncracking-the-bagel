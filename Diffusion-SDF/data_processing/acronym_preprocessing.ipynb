{
 "cells": [
  {
   "cell_type": "code",
   "execution_count": null,
   "id": "bfd72a1f",
   "metadata": {},
   "outputs": [],
   "source": [
    "import sys\n",
    "print(sys.argv[0])"
   ]
  },
  {
   "cell_type": "code",
   "execution_count": null,
   "id": "6b4b6097",
   "metadata": {},
   "outputs": [],
   "source": [
    "import os\n",
    "HERE = os.getcwd()\n",
    "HERE"
   ]
  },
  {
   "cell_type": "code",
   "execution_count": null,
   "id": "bbb569ef",
   "metadata": {},
   "outputs": [],
   "source": [
    "# https://sites.google.com/nvidia.com/graspdataset"
   ]
  },
  {
   "cell_type": "code",
   "execution_count": null,
   "id": "f032cf96",
   "metadata": {},
   "outputs": [],
   "source": [
    "#!conda install h5py\n",
    "!pip install -U scikit-learn"
   ]
  },
  {
   "cell_type": "code",
   "execution_count": null,
   "id": "a4cc4e42",
   "metadata": {},
   "outputs": [],
   "source": [
    "import h5py\n",
    "import numpy as np\n",
    "!pip3 install mesh-to-sdf"
   ]
  },
  {
   "cell_type": "code",
   "execution_count": null,
   "id": "53e3bd97",
   "metadata": {},
   "outputs": [],
   "source": [
    "DATA_DIR = \"data/examples/grasps/\"\n",
    "COUCH_H5 = DATA_DIR + \"Table_99cf659ae2fe4b87b72437fd995483b_0.009700376721042367.h5\"\n",
    "grasps = h5py.File(COUCH_H5, 'r')"
   ]
  },
  {
   "cell_type": "code",
   "execution_count": null,
   "id": "0495b220",
   "metadata": {},
   "outputs": [],
   "source": [
    "grasps.visititems(print)"
   ]
  },
  {
   "cell_type": "code",
   "execution_count": null,
   "id": "34ceff58",
   "metadata": {},
   "outputs": [],
   "source": [
    "grasps['object/file'][()]  # file name in shapenet?"
   ]
  },
  {
   "cell_type": "markdown",
   "id": "48aada7c",
   "metadata": {},
   "source": [
    "# Get all meshes from ShapeNet\n",
    "\n",
    "Waiting for approval, following steps will use example meshes from acronym repo"
   ]
  },
  {
   "cell_type": "code",
   "execution_count": null,
   "id": "a18abd05",
   "metadata": {},
   "outputs": [],
   "source": []
  },
  {
   "cell_type": "markdown",
   "id": "0ce4414b",
   "metadata": {},
   "source": [
    "# Acronym repo: render example meshes"
   ]
  },
  {
   "cell_type": "code",
   "execution_count": null,
   "id": "9bbd77eb",
   "metadata": {},
   "outputs": [],
   "source": [
    "# clone acronym, install dependencies\n",
    "\n",
    "!git clone https://github.com/NVlabs/acronym.git"
   ]
  },
  {
   "cell_type": "code",
   "execution_count": null,
   "id": "95f574a0",
   "metadata": {},
   "outputs": [],
   "source": [
    "%cd {HERE}/acronym"
   ]
  },
  {
   "cell_type": "code",
   "execution_count": null,
   "id": "54d2b9dc",
   "metadata": {
    "scrolled": true
   },
   "outputs": [],
   "source": [
    "!pip install -r requirements.txt\n",
    "!pip install -e .\n",
    "!pip install \"pyglet<2\"  # conflict"
   ]
  },
  {
   "cell_type": "code",
   "execution_count": null,
   "id": "ba8ddfa3",
   "metadata": {},
   "outputs": [],
   "source": [
    "!cat requirements.txt"
   ]
  },
  {
   "cell_type": "markdown",
   "id": "22a0fdcc",
   "metadata": {},
   "source": [
    "## run example commands"
   ]
  },
  {
   "cell_type": "code",
   "execution_count": null,
   "id": "73e97b9b",
   "metadata": {},
   "outputs": [],
   "source": [
    "!acronym_visualize_grasps.py --mesh_root data/examples data/examples/grasps/Mug_10f6e09036350e92b3f21f1137c3c347_0.0002682457830986903.h5\n"
   ]
  },
  {
   "cell_type": "code",
   "execution_count": null,
   "id": "dfbcb532",
   "metadata": {
    "scrolled": true
   },
   "outputs": [],
   "source": [
    "!acronym_generate_scene.py --mesh_root data/examples/ --objects data/examples/grasps/Mug_10f6e09036350e92b3f21f1137c3c347_0.0002682457830986903.h5 data/examples/grasps/Mug_10f6e09036350e92b3f21f1137c3c347_0.0002682457830986903.h5 data/examples/grasps/Mug_10f6e09036350e92b3f21f1137c3c347_0.0002682457830986903.h5 data/examples/grasps/Mug_10f6e09036350e92b3f21f1137c3c347_0.0002682457830986903.h5 --support data/examples/grasps/Table_99cf659ae2fe4b87b72437fd995483b_0.009700376721042367.h5\n"
   ]
  },
  {
   "cell_type": "markdown",
   "id": "00ed63f8",
   "metadata": {},
   "source": [
    "# Render custom mesh\n",
    "\n",
    "using examples, but in custom directory"
   ]
  },
  {
   "cell_type": "code",
   "execution_count": null,
   "id": "459896f2",
   "metadata": {},
   "outputs": [],
   "source": [
    "%cd {HERE}"
   ]
  },
  {
   "cell_type": "code",
   "execution_count": null,
   "id": "2c7019b5",
   "metadata": {},
   "outputs": [],
   "source": [
    "!ls"
   ]
  },
  {
   "cell_type": "code",
   "execution_count": null,
   "id": "f5483d28",
   "metadata": {},
   "outputs": [],
   "source": [
    "MESH_ROOT = \"acronym/data/examples\"\n",
    "GRASP_PATH = \"acronym/data/examples/grasps/Mug_10f6e09036350e92b3f21f1137c3c347_0.0002682457830986903.h5\""
   ]
  },
  {
   "cell_type": "code",
   "execution_count": null,
   "id": "b6672891",
   "metadata": {},
   "outputs": [],
   "source": [
    "from acronym.acronym_tools.acronym import load_mesh\n",
    "obj_mesh = load_mesh(GRASP_PATH, mesh_root_dir=MESH_ROOT)\n",
    "obj_mesh"
   ]
  },
  {
   "cell_type": "code",
   "execution_count": null,
   "id": "e4877fef",
   "metadata": {},
   "outputs": [],
   "source": [
    "import trimesh\n",
    "#!conda install -c conda-forge libstdcxx-ng\n",
    "trimesh.Scene([obj_mesh]).show()"
   ]
  },
  {
   "cell_type": "code",
   "execution_count": null,
   "id": "26ee5f8f",
   "metadata": {},
   "outputs": [],
   "source": [
    "from mesh_to_sdf import sample_sdf_near_surface\n",
    "import trimesh\n",
    "import pyrender\n",
    "import numpy as np\n",
    "points, sdf = sample_sdf_near_surface(obj_mesh, number_of_points=250000)\n",
    "points, sdf = points / 2.0, sdf / 2.0\n",
    "colors = np.zeros(points.shape)\n",
    "colors[sdf < 0, 2] = 1\n",
    "colors[sdf > 0, 0] = 1\n",
    "cloud = pyrender.Mesh.from_points(points, colors=colors)\n",
    "scene = pyrender.Scene()\n",
    "scene.add(cloud)\n",
    "viewer = pyrender.Viewer(scene, use_raymond_lighting=True, point_size=2)"
   ]
  },
  {
   "cell_type": "markdown",
   "id": "91ae7cf8",
   "metadata": {},
   "source": [
    "# Rescale custom mesh\n",
    "\n",
    "first stage of preprocessing, to NOCS cube"
   ]
  },
  {
   "cell_type": "code",
   "execution_count": null,
   "id": "99e0484a",
   "metadata": {},
   "outputs": [],
   "source": [
    "obj_mesh.bounds"
   ]
  },
  {
   "cell_type": "code",
   "execution_count": null,
   "id": "9460d276",
   "metadata": {},
   "outputs": [],
   "source": [
    "# define transformation\n",
    "\n",
    "p1, p2 = obj_mesh.bounds\n",
    "\n",
    "# center\n",
    "c = (p1 + p2) / 2\n",
    "\n",
    "# translation\n",
    "t = - c\n",
    "\n",
    "# scaling\n",
    "s = np.min(2 / np.abs(p2 - p1))\n",
    "S = s * np.eye(3)\n",
    "\n",
    "# homogeneous transformation matrix\n",
    "transform = np.eye(4, dtype=float)\n",
    "transform[:3, :3] = S\n",
    "transform[:3, 3] = s * t\n",
    "\n",
    "mesh = copy(obj_mesh)\n",
    "mesh.apply_transform(transform)\n",
    "\n",
    "transform"
   ]
  },
  {
   "cell_type": "code",
   "execution_count": null,
   "id": "20e987a2",
   "metadata": {},
   "outputs": [],
   "source": [
    "from copy import deepcopy, copy\n",
    "mesh = copy(obj_mesh)\n",
    "mesh.apply_transform(transform)\n",
    "mesh.bounds"
   ]
  },
  {
   "cell_type": "markdown",
   "id": "9029bbec",
   "metadata": {},
   "source": [
    "# sample points from mesh\n",
    "\n",
    "second stage of preprocessing, sample points near surface\n",
    "\n",
    "1. sample 235,000 points on the surface (signed distance 0)\n",
    "2. for each point p i, we sample two Gaussian distributions with mean 0 and standard deviation 0.005 and 0.0005\n",
    "3. grid points with resolution 128x128x128\n",
    "\n",
    "store all points with grund truth(gt) signed distance(sd) values (they are known beacuse we know the mesh)\n",
    "\n",
    "NOTE: two possibilities `trimesh.sample.sample_surface` `trimesh.sample.sample_surface_even`"
   ]
  },
  {
   "cell_type": "code",
   "execution_count": null,
   "id": "35f5a917",
   "metadata": {},
   "outputs": [],
   "source": [
    "def sample_surface(mesh, n):\n",
    "    sampled_points, _ = sample_sdf_near_surface(mesh, n)\n",
    "    return np.array(sampled_points)\n",
    "\n",
    "def sample_near(points):\n",
    "    sampled_points = []\n",
    "    for p in points:\n",
    "        p1 = np.random.multivariate_normal(p, 0.005 * np.eye(3), 1)[0]\n",
    "        p2 = np.random.multivariate_normal(p, 0.0005 * np.eye(3), 1)[0]\n",
    "        sampled_points.extend([p1, p2])\n",
    "    return np.array(sampled_points)\n",
    "\n",
    "def sample_grid(res=128):\n",
    "    linsp = np.linspace(-1, 1, res)\n",
    "    # 128**3 = 2097152\n",
    "    X, Y, Z = np.meshgrid(linsp, linsp, linsp)\n",
    "    sampled_points = list(zip(X.ravel(), Y.ravel(), Z.ravel()))\n",
    "    return np.array(sampled_points)\n",
    "\n",
    "def signed_distance(mesh, query_points):\n",
    "    sds = trimesh.proximity.signed_distance(mesh, query_points)\n",
    "    sds = np.array(sds)  # from TrackedArray to np.array\n",
    "    sds = np.expand_dims(sds, 1)  # unsqueeze\n",
    "    return sds"
   ]
  },
  {
   "cell_type": "code",
   "execution_count": null,
   "id": "8a7daed5",
   "metadata": {},
   "outputs": [],
   "source": [
    "!"
   ]
  },
  {
   "cell_type": "code",
   "execution_count": null,
   "id": "601b72b3",
   "metadata": {},
   "outputs": [],
   "source": [
    "import pandas as pd\n",
    "\n",
    "def save_point_cloud_sdf(mesh, query_points, path):\n",
    "    # get signed distance\n",
    "    sds = signed_distance(mesh, query_points)\n",
    "\n",
    "    # merge query points and sd values\n",
    "    q_sd = np.hstack([query_points, sds])\n",
    "    \n",
    "    # save to csv\n",
    "    df = pd.DataFrame(q_sd)\n",
    "    df = df.round(6)  # round floats\n",
    "    df.to_csv(path, sep=',', header=False, index=False)\n",
    "\n",
    "def preprocess(mesh, save_dir='.', n=235000, res=128):\n",
    "    # sample points\n",
    "    p_surf = sample_surface(mesh, n)\n",
    "    p_near = sample_near(p_surf)\n",
    "    p_grid = sample_grid(res)\n",
    "    \n",
    "    save_point_cloud_sdf(mesh, p_surf, path=f'{save_dir}/surf.csv')\n",
    "    save_point_cloud_sdf(mesh, p_near, path=f'{save_dir}/near.csv')\n",
    "    save_point_cloud_sdf(mesh, p_grid, path=f'{save_dir}/grid.csv')"
   ]
  },
  {
   "cell_type": "code",
   "execution_count": null,
   "id": "43819bf3",
   "metadata": {},
   "outputs": [],
   "source": [
    "preprocess(mesh, n=235000, res=128)"
   ]
  },
  {
   "cell_type": "markdown",
   "id": "6dcd45f1",
   "metadata": {},
   "source": []
  }
 ],
 "metadata": {
  "kernelspec": {
   "display_name": "Python 3 (ipykernel)",
   "language": "python",
   "name": "python3"
  },
  "language_info": {
   "codemirror_mode": {
    "name": "ipython",
    "version": 3
   },
   "file_extension": ".py",
   "mimetype": "text/x-python",
   "name": "python",
   "nbconvert_exporter": "python",
   "pygments_lexer": "ipython3",
   "version": "3.10.10"
  }
 },
 "nbformat": 4,
 "nbformat_minor": 5
}
