{
 "cells": [
  {
   "cell_type": "code",
   "execution_count": null,
   "metadata": {},
   "outputs": [],
   "source": [
    "import matplotlib.pyplot as plt\n",
    "import os\n",
    "from pathlib import Path\n",
    "import json\n",
    "import numpy as np"
   ]
  },
  {
   "attachments": {},
   "cell_type": "markdown",
   "metadata": {},
   "source": [
    "# PVD_TEST visualizations\n",
    "\n",
    "This notebook is meant for visualizing the PRO curves with the output of the pvd_test file."
   ]
  },
  {
   "cell_type": "code",
   "execution_count": null,
   "metadata": {},
   "outputs": [],
   "source": [
    "JSON_DIR = 'output/pvd_test'"
   ]
  },
  {
   "cell_type": "code",
   "execution_count": null,
   "metadata": {},
   "outputs": [],
   "source": [
    "path_to_files = f'{JSON_DIR}/50timesteps'\n",
    "all_au_pros = []\n",
    "all_curves = []\n",
    "\n",
    "for filename in Path(path_to_files).rglob('*.json'):\n",
    "    data = json.load(open(filename))\n",
    "    au_dict = list(data.values())[0]\n",
    "    all_au_pros.append(au_dict['au_pro'])\n",
    "    all_curves.append(au_dict['pro_curve'])"
   ]
  },
  {
   "cell_type": "code",
   "execution_count": null,
   "metadata": {},
   "outputs": [],
   "source": [
    "mean_au_pro_50 = np.mean(all_au_pros, axis=0)\n",
    "mean_curve_50 = np.mean(all_curves, axis=0)\n",
    "mean_au_pro_50 = np.insert(mean_au_pro_50, 0, 0)\n",
    "limits = [0, 0.1, 0.2, 0.3, 0.4, 0.5, 0.6, 0.7, 0.8, 0.9, 1.0]\n"
   ]
  },
  {
   "cell_type": "code",
   "execution_count": null,
   "metadata": {},
   "outputs": [],
   "source": [
    "path_to_files = f'{JSON_DIR}/250timesteps'\n",
    "all_au_pros = []\n",
    "all_curves = []\n",
    "\n",
    "for filename in Path(path_to_files).rglob('*.json'):\n",
    "    data = json.load(open(filename))\n",
    "    au_dict = list(data.values())[0]\n",
    "    all_au_pros.append(au_dict['au_pro'])\n",
    "    all_curves.append(au_dict['pro_curve'])\n",
    "    \n",
    "mean_au_pro_250 = np.mean(all_au_pros, axis=0)\n",
    "mean_au_pro_250 = np.insert(mean_au_pro_250, 0, 0)\n",
    "mean_curve_250 = np.mean(all_curves, axis=0)"
   ]
  },
  {
   "cell_type": "code",
   "execution_count": null,
   "metadata": {},
   "outputs": [],
   "source": [
    "path_to_files = f'{JSON_DIR}/150timesteps'\n",
    "all_au_pros = []\n",
    "all_curves = []\n",
    "\n",
    "for filename in Path(path_to_files).rglob('*.json'):\n",
    "    data = json.load(open(filename))\n",
    "    au_dict = list(data.values())[0]\n",
    "    all_au_pros.append(au_dict['au_pro'])\n",
    "    all_curves.append(au_dict['pro_curve'])\n",
    "    \n",
    "mean_au_pro_150 = np.mean(all_au_pros, axis=0)\n",
    "mean_au_pro_150 = np.insert(mean_au_pro_150, 0, 0)\n",
    "mean_curve_150 = np.mean(all_curves, axis=0)"
   ]
  },
  {
   "cell_type": "code",
   "execution_count": null,
   "metadata": {},
   "outputs": [],
   "source": [
    "path_to_files = f'{JSON_DIR}/100timesteps'\n",
    "all_au_pros = []\n",
    "all_curves = []\n",
    "\n",
    "for filename in Path(path_to_files).rglob('*.json'):\n",
    "    data = json.load(open(filename))\n",
    "    au_dict = list(data.values())[0]\n",
    "    all_au_pros.append(au_dict['au_pro'])\n",
    "    all_curves.append(au_dict['pro_curve'])\n",
    "    \n",
    "mean_au_pro_100 = np.mean(all_au_pros, axis=0)\n",
    "mean_au_pro_100 = np.insert(mean_au_pro_100, 0, 0)\n",
    "mean_curve_100 = np.mean(all_curves, axis=0)"
   ]
  },
  {
   "cell_type": "code",
   "execution_count": null,
   "metadata": {},
   "outputs": [],
   "source": [
    "path_to_files = f'{JSON_DIR}/15timesteps'\n",
    "all_au_pros = []\n",
    "all_curves = []\n",
    "\n",
    "for filename in Path(path_to_files).rglob('*.json'):\n",
    "    data = json.load(open(filename))\n",
    "    au_dict = list(data.values())[0]\n",
    "    all_au_pros.append(au_dict['au_pro'])\n",
    "    all_curves.append(au_dict['pro_curve'])\n",
    "    \n",
    "mean_au_pro_15 = np.mean(all_au_pros, axis=0)\n",
    "mean_au_pro_15 = np.insert(mean_au_pro_15, 0, 0)\n",
    "mean_curve_15 = np.mean(all_curves, axis=0)"
   ]
  },
  {
   "cell_type": "code",
   "execution_count": null,
   "metadata": {},
   "outputs": [],
   "source": [
    "path_to_files = f'{JSON_DIR}/20timesteps'\n",
    "all_au_pros = []\n",
    "all_curves = []\n",
    "\n",
    "for filename in Path(path_to_files).rglob('*.json'):\n",
    "    data = json.load(open(filename))\n",
    "    au_dict = list(data.values())[0]\n",
    "    all_au_pros.append(au_dict['au_pro'])\n",
    "    all_curves.append(au_dict['pro_curve'])\n",
    "    \n",
    "mean_au_pro_20 = np.mean(all_au_pros, axis=0)\n",
    "mean_au_pro_20 = np.insert(mean_au_pro_20, 0, 0)\n",
    "mean_curve_20 = np.mean(all_curves, axis=0)"
   ]
  },
  {
   "cell_type": "code",
   "execution_count": null,
   "metadata": {},
   "outputs": [],
   "source": [
    "path_to_files = f'{JSON_DIR}/25timesteps'\n",
    "all_au_pros = []\n",
    "all_curves = []\n",
    "\n",
    "for filename in Path(path_to_files).rglob('*.json'):\n",
    "    data = json.load(open(filename))\n",
    "    au_dict = list(data.values())[0]\n",
    "    all_au_pros.append(au_dict['au_pro'])\n",
    "    all_curves.append(au_dict['pro_curve'])\n",
    "    \n",
    "mean_au_pro_25 = np.mean(all_au_pros, axis=0)\n",
    "mean_au_pro_25 = np.insert(mean_au_pro_25, 0, 0)\n",
    "mean_curve_25 = np.mean(all_curves, axis=0)"
   ]
  },
  {
   "cell_type": "code",
   "execution_count": null,
   "metadata": {},
   "outputs": [],
   "source": [
    "# plt.figure()\n",
    "# plt.xlabel('False positive rate')\n",
    "# plt.ylabel('PRO value')\n",
    "# for i, lim in enumerate(limits):\n",
    "#     fpr, pro = mean_curve[i]\n",
    "#     plt.plot(fpr, pro, label=lim)\n",
    "    \n",
    "# plt.legend()\n",
    "# plt.show()\n",
    "# plt.savefig(os.path.join(output_dir,'pro_curve_%s.png' % (type_of_data)))\n",
    "\n",
    "\n",
    "#The PRO [4] metric, defined as the average relative\n",
    "# overlap of the binary prediction P with each ground truth connected component Ck where K denotes the number of\n",
    "# ground truth components. The final metric is computed by\n",
    "# integrating this curve up to some false positive rate and normalizing\n",
    "fig = plt.figure(figsize=(10, 8))\n",
    "plt.xlabel('Integration limit')\n",
    "plt.ylabel('AU-PRO')\n",
    "plt.title(\"AU-PRO values based on different integration limits\", size=18)\n",
    "plt.plot(limits, mean_au_pro_15, label='15 steps')\n",
    "plt.plot(limits, mean_au_pro_20, label='20 steps')\n",
    "plt.plot(limits, mean_au_pro_25, label='25 steps')\n",
    "plt.plot(limits, mean_au_pro_50, label='50 steps')\n",
    "plt.plot(limits, mean_au_pro_100, label='100 steps')\n",
    "plt.plot(limits, mean_au_pro_150, label='150 steps')\n",
    "plt.plot(limits, mean_au_pro_250, label='250 steps')\n",
    "plt.grid()\n",
    "plt.legend()\n",
    "\n",
    "plt.savefig('au_pro_values_all_steps.jpg')\n",
    "# plt.savefig('au_pro_values_all_steps_no_grid.jpg')\n"
   ]
  },
  {
   "cell_type": "code",
   "execution_count": null,
   "metadata": {},
   "outputs": [],
   "source": [
    "mean_au_pro_50"
   ]
  },
  {
   "cell_type": "code",
   "execution_count": null,
   "metadata": {},
   "outputs": [],
   "source": []
  }
 ],
 "metadata": {
  "kernelspec": {
   "display_name": "pvd",
   "language": "python",
   "name": "python3"
  },
  "language_info": {
   "codemirror_mode": {
    "name": "ipython",
    "version": 3
   },
   "file_extension": ".py",
   "mimetype": "text/x-python",
   "name": "python",
   "nbconvert_exporter": "python",
   "pygments_lexer": "ipython3",
   "version": "3.6.13"
  },
  "orig_nbformat": 4
 },
 "nbformat": 4,
 "nbformat_minor": 2
}
