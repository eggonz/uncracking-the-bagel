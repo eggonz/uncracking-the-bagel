{
   "cells": [
      {
         "cell_type": "code",
         "execution_count": null,
         "metadata": {},
         "outputs": [],
         "source": [
            "\n",
            "import matplotlib as mpl\n",
            "import matplotlib.pyplot as plt\n",
            "import os\n",
            "from pathlib import Path\n",
            "import json\n",
            "import numpy as np"
         ]
      },
      {
         "attachments": {},
         "cell_type": "markdown",
         "metadata": {},
         "source": [
            "# PVD_TEST visualizations\n",
            "\n",
            "This notebook is meant for visualizing the PRO curves with the output of the pvd_test file."
         ]
      },
      {
         "cell_type": "code",
         "execution_count": null,
         "metadata": {},
         "outputs": [],
         "source": [
            "JSON_DIR = 'output/pvd_test'"
         ]
      },
      {
         "cell_type": "code",
         "execution_count": null,
         "metadata": {},
         "outputs": [],
         "source": [
            "JSON_DIR = '/home/lcur0916/repo/PVD/output/pvd_test'\n",
            "steps_dir = lambda step: os.path.join(JSON_DIR, f'{step}steps')\n",
            "\n",
            "limits = [0, 0.1, 0.2, 0.3, 0.4, 0.5, 0.6, 0.7, 0.8, 0.9, 1.0]\n",
            "steps = [15, 20, 25, 50, 100, 150, 250]\n"
         ]
      },
      {
         "cell_type": "code",
         "execution_count": null,
         "metadata": {},
         "outputs": [],
         "source": [
            "mean_au_pro_50 = np.mean(all_au_pros, axis=0)\n",
            "mean_curve_50 = np.mean(all_curves, axis=0)\n",
            "mean_au_pro_50 = np.insert(mean_au_pro_50, 0, 0)\n",
            "limits = [0, 0.1, 0.2, 0.3, 0.4, 0.5, 0.6, 0.7, 0.8, 0.9, 1.0]\n"
         ]
      },
      {
         "cell_type": "code",
         "execution_count": null,
         "metadata": {},
         "outputs": [],
         "source": [
            "\n",
            "for filename in Path(path_to_files).rglob('*.json'):\n",
            "    data = json.load(open(filename))\n",
            "    au_dict = list(data.values())[0]\n",
            "    all_au_pros.append(au_dict['au_pro'])\n",
            "    all_curves.append(au_dict['pro_curve'])\n",
            "    \n",
            "mean_au_pro_250 = np.mean(all_au_pros, axis=0)\n",
            "mean_au_pro_250 = np.insert(mean_au_pro_250, 0, 0)\n",
            "mean_curve_250 = np.mean(all_curves, axis=0)"
         ]
      },
      {
         "cell_type": "code",
         "execution_count": null,
         "metadata": {},
         "outputs": [],
         "source": [
            "path_to_files = f'{JSON_DIR}/150timesteps'\n",
            "all_au_pros = []\n",
            "all_curves = []\n",
            "\n",
            "for filename in Path(path_to_files).rglob('*.json'):\n",
            "    data = json.load(open(filename))\n",
            "    au_dict = list(data.values())[0]\n",
            "    all_au_pros.append(au_dict['au_pro'])\n",
            "    all_curves.append(au_dict['pro_curve'])\n",
            "    \n",
            "mean_au_pro_150 = np.mean(all_au_pros, axis=0)\n",
            "mean_au_pro_150 = np.insert(mean_au_pro_150, 0, 0)\n",
            "mean_curve_150 = np.mean(all_curves, axis=0)"
         ]
      },
      {
         "cell_type": "code",
         "execution_count": null,
         "metadata": {},
         "outputs": [],
         "source": [
            "path_to_files = f'{JSON_DIR}/100timesteps'\n",
            "all_au_pros = []\n",
            "all_curves = []\n",
            "\n",
            "for filename in Path(path_to_files).rglob('*.json'):\n",
            "    data = json.load(open(filename))\n",
            "    au_dict = list(data.values())[0]\n",
            "    all_au_pros.append(au_dict['au_pro'])\n",
            "    all_curves.append(au_dict['pro_curve'])\n",
            "    \n",
            "mean_au_pro_100 = np.mean(all_au_pros, axis=0)\n",
            "mean_au_pro_100 = np.insert(mean_au_pro_100, 0, 0)\n",
            "mean_curve_100 = np.mean(all_curves, axis=0)"
         ]
      },
      {
         "cell_type": "code",
         "execution_count": null,
         "metadata": {},
         "outputs": [],
         "source": [
            "path_to_files = f'{JSON_DIR}/15timesteps'\n",
            "all_au_pros = []\n",
            "all_curves = []\n",
            "\n",
            "for filename in Path(path_to_files).rglob('*.json'):\n",
            "    data = json.load(open(filename))\n",
            "    au_dict = list(data.values())[0]\n",
            "    all_au_pros.append(au_dict['au_pro'])\n",
            "    all_curves.append(au_dict['pro_curve'])\n",
            "    \n",
            "mean_au_pro_15 = np.mean(all_au_pros, axis=0)\n",
            "mean_au_pro_15 = np.insert(mean_au_pro_15, 0, 0)\n",
            "mean_curve_15 = np.mean(all_curves, axis=0)"
         ]
      },
      {
         "cell_type": "code",
         "execution_count": null,
         "metadata": {},
         "outputs": [],
         "source": [
            "path_to_files = f'{JSON_DIR}/20timesteps'\n",
            "all_au_pros = []\n",
            "all_curves = []\n",
            "\n",
            "    return mean_au_pro, mean_curve"
         ]
      },
      {
         "cell_type": "code",
         "execution_count": null,
         "metadata": {},
         "outputs": [],
         "source": [
            "\n",
            "from matplotlib import rc\n",
            "rc('font',**{'family':'serif','serif':['Times New Roman']})\n",
            "rc('text', usetex=True)\n",
            "\n",
            "from matplotlib import font_manager"
         ]
      },
      {
         "cell_type": "code",
         "execution_count": null,
         "metadata": {},
         "outputs": [],
         "source": [
            "fig = plt.figure(figsize=(8, 5))\n",
            "\n",
            "plt.rcParams[\"font.size\"] = 18\n",
            "\n",
            "plt.ylim(0, 1)\n",
            "plt.xlim(0, 1)\n",
            "plt.xlabel('Integration Limit')\n",
            "plt.ylabel('AU-PRO')\n",
            "plt.title(\"AU-PRO values based on different integration limits\")\n",
            "\n",
            "# add dashed line in x=0.3, behind the curves\n",
            "plt.axvline(x=0.3, color='grey', linestyle='--')\n",
            "\n",
            "mean_au_pro_50 = None\n",
            "for i, step in enumerate(steps):\n",
            "    mean_au_pro, _ = get_step_results(step)\n",
            "    if step == 50:\n",
            "        mean_au_pro_50 = mean_au_pro\n",
            "\n",
            "    # draw curves\n",
            "    plt.plot(limits, mean_au_pro, label=f'{step} steps')\n",
            "\n",
            "    # highlight the points in the curves in x=0.3, with the same colors as the curves before\n",
            "    plt.scatter(0.3, mean_au_pro[3], color=f'C{i}')\n",
            "\n",
            "# show the number for step50 at x=0.3 next to the point\n",
            "plt.text(0.3 - 0.015, mean_au_pro_50[3] + 0.015, f'{mean_au_pro_50[3]:.3f}', ha='right', va='bottom')\n",
            "\n",
            "plt.grid()\n",
            "plt.legend(fontsize=16, loc='lower right')\n",
            "\n",
            "plt.savefig('au_pro_values_all_steps.jpg')\n",
            "plt.savefig('au_pro_values_all_steps.png')\n",
            "plt.savefig('au_pro_values_all_steps.svg')\n",
            "plt.show()"
         ]
      },
      {
         "cell_type": "code",
         "execution_count": null,
         "metadata": {},
         "outputs": [],
         "source": [
            "!rm ~/.cache/matplotlib -rf"
         ]
      },
      {
         "cell_type": "code",
         "execution_count": null,
         "metadata": {},
         "outputs": [],
         "source": []
      }
   ],
   "metadata": {
      "kernelspec": {
         "display_name": "pvd",
         "language": "python",
         "name": "python3"
      },
      "language_info": {
         "codemirror_mode": {
            "name": "ipython",
            "version": 3
         },
         "file_extension": ".py",
         "mimetype": "text/x-python",
         "name": "python",
         "nbconvert_exporter": "python",
         "pygments_lexer": "ipython3",
         "version": "3.6.13"
      },
      "orig_nbformat": 4
   },
   "nbformat": 4,
   "nbformat_minor": 2
}