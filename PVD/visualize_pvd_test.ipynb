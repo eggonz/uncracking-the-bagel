{
 "cells": [
  {
   "cell_type": "code",
   "execution_count": 3,
   "metadata": {},
   "outputs": [],
   "source": [
    "import matplotlib.pyplot as plt\n",
    "import os\n",
    "from pathlib import Path\n",
    "import json\n",
    "import numpy as np"
   ]
  },
  {
   "attachments": {},
   "cell_type": "markdown",
   "metadata": {},
   "source": [
    "# PVD_TEST visualizations\n",
    "\n",
    "This notebook is meant for visualizing the PRO curves etc with the output of the pvd_test file."
   ]
  },
  {
   "cell_type": "code",
   "execution_count": 4,
   "metadata": {},
   "outputs": [],
   "source": [
    "JSON_DIR = 'output/pvd_test'"
   ]
  },
  {
   "cell_type": "code",
   "execution_count": 5,
   "metadata": {},
   "outputs": [],
   "source": [
    "path_to_files = f'{JSON_DIR}/50timesteps'\n",
    "all_au_pros = []\n",
    "all_curves = []\n",
    "\n",
    "for filename in Path(path_to_files).rglob('*.json'):\n",
    "    data = json.load(open(filename))\n",
    "    au_dict = list(data.values())[0]\n",
    "    all_au_pros.append(au_dict['au_pro'])\n",
    "    all_curves.append(au_dict['pro_curve'])"
   ]
  },
  {
   "cell_type": "code",
   "execution_count": 6,
   "metadata": {},
   "outputs": [
    {
     "name": "stderr",
     "output_type": "stream",
     "text": [
      "/home/lcur0916/.conda/envs/pvd/lib/python3.6/site-packages/numpy/core/fromnumeric.py:3373: RuntimeWarning: Mean of empty slice.\n",
      "  out=out, **kwargs)\n",
      "/home/lcur0916/.conda/envs/pvd/lib/python3.6/site-packages/numpy/core/_methods.py:170: RuntimeWarning: invalid value encountered in double_scalars\n",
      "  ret = ret.dtype.type(ret / rcount)\n"
     ]
    }
   ],
   "source": [
    "mean_au_pro_50 = np.mean(all_au_pros, axis=0)\n",
    "mean_curve_50 = np.mean(all_curves, axis=0)\n",
    "mean_au_pro_50 = np.insert(mean_au_pro_50, 0, 0)\n",
    "limits = [0, 0.1, 0.2, 0.3, 0.4, 0.5, 0.6, 0.7, 0.8, 0.9, 1.0]\n"
   ]
  },
  {
   "cell_type": "code",
   "execution_count": 7,
   "metadata": {},
   "outputs": [],
   "source": [
    "path_to_files = f'{JSON_DIR}/250timesteps'\n",
    "all_au_pros = []\n",
    "all_curves = []\n",
    "\n",
    "for filename in Path(path_to_files).rglob('*.json'):\n",
    "    data = json.load(open(filename))\n",
    "    au_dict = list(data.values())[0]\n",
    "    all_au_pros.append(au_dict['au_pro'])\n",
    "    all_curves.append(au_dict['pro_curve'])\n",
    "    \n",
    "mean_au_pro_250 = np.mean(all_au_pros, axis=0)\n",
    "mean_au_pro_250 = np.insert(mean_au_pro_250, 0, 0)\n",
    "mean_curve_250 = np.mean(all_curves, axis=0)"
   ]
  },
  {
   "cell_type": "code",
   "execution_count": 8,
   "metadata": {},
   "outputs": [],
   "source": [
    "path_to_files = f'{JSON_DIR}/150timesteps'\n",
    "all_au_pros = []\n",
    "all_curves = []\n",
    "\n",
    "for filename in Path(path_to_files).rglob('*.json'):\n",
    "    data = json.load(open(filename))\n",
    "    au_dict = list(data.values())[0]\n",
    "    all_au_pros.append(au_dict['au_pro'])\n",
    "    all_curves.append(au_dict['pro_curve'])\n",
    "    \n",
    "mean_au_pro_150 = np.mean(all_au_pros, axis=0)\n",
    "mean_au_pro_150 = np.insert(mean_au_pro_150, 0, 0)\n",
    "mean_curve_150 = np.mean(all_curves, axis=0)"
   ]
  },
  {
   "cell_type": "code",
   "execution_count": 9,
   "metadata": {},
   "outputs": [],
   "source": [
    "path_to_files = f'{JSON_DIR}/100timesteps'\n",
    "all_au_pros = []\n",
    "all_curves = []\n",
    "\n",
    "for filename in Path(path_to_files).rglob('*.json'):\n",
    "    data = json.load(open(filename))\n",
    "    au_dict = list(data.values())[0]\n",
    "    all_au_pros.append(au_dict['au_pro'])\n",
    "    all_curves.append(au_dict['pro_curve'])\n",
    "    \n",
    "mean_au_pro_100 = np.mean(all_au_pros, axis=0)\n",
    "mean_au_pro_100 = np.insert(mean_au_pro_100, 0, 0)\n",
    "mean_curve_100 = np.mean(all_curves, axis=0)"
   ]
  },
  {
   "cell_type": "code",
   "execution_count": 10,
   "metadata": {},
   "outputs": [],
   "source": [
    "path_to_files = f'{JSON_DIR}/15timesteps'\n",
    "all_au_pros = []\n",
    "all_curves = []\n",
    "\n",
    "for filename in Path(path_to_files).rglob('*.json'):\n",
    "    data = json.load(open(filename))\n",
    "    au_dict = list(data.values())[0]\n",
    "    all_au_pros.append(au_dict['au_pro'])\n",
    "    all_curves.append(au_dict['pro_curve'])\n",
    "    \n",
    "mean_au_pro_15 = np.mean(all_au_pros, axis=0)\n",
    "mean_au_pro_15 = np.insert(mean_au_pro_15, 0, 0)\n",
    "mean_curve_15 = np.mean(all_curves, axis=0)"
   ]
  },
  {
   "cell_type": "code",
   "execution_count": 11,
   "metadata": {},
   "outputs": [],
   "source": [
    "path_to_files = f'{JSON_DIR}/20timesteps'\n",
    "all_au_pros = []\n",
    "all_curves = []\n",
    "\n",
    "for filename in Path(path_to_files).rglob('*.json'):\n",
    "    data = json.load(open(filename))\n",
    "    au_dict = list(data.values())[0]\n",
    "    all_au_pros.append(au_dict['au_pro'])\n",
    "    all_curves.append(au_dict['pro_curve'])\n",
    "    \n",
    "mean_au_pro_20 = np.mean(all_au_pros, axis=0)\n",
    "mean_au_pro_20 = np.insert(mean_au_pro_20, 0, 0)\n",
    "mean_curve_20 = np.mean(all_curves, axis=0)"
   ]
  },
  {
   "cell_type": "code",
   "execution_count": 12,
   "metadata": {},
   "outputs": [],
   "source": [
    "path_to_files = f'{JSON_DIR}/25timesteps'\n",
    "all_au_pros = []\n",
    "all_curves = []\n",
    "\n",
    "for filename in Path(path_to_files).rglob('*.json'):\n",
    "    data = json.load(open(filename))\n",
    "    au_dict = list(data.values())[0]\n",
    "    all_au_pros.append(au_dict['au_pro'])\n",
    "    all_curves.append(au_dict['pro_curve'])\n",
    "    \n",
    "mean_au_pro_25 = np.mean(all_au_pros, axis=0)\n",
    "mean_au_pro_25 = np.insert(mean_au_pro_25, 0, 0)\n",
    "mean_curve_25 = np.mean(all_curves, axis=0)"
   ]
  },
  {
   "cell_type": "code",
   "execution_count": 13,
   "metadata": {},
   "outputs": [
    {
     "ename": "ValueError",
     "evalue": "x and y must have same first dimension, but have shapes (11,) and (1,)",
     "output_type": "error",
     "traceback": [
      "\u001b[0;31m---------------------------------------------------------------------------\u001b[0m",
      "\u001b[0;31mValueError\u001b[0m                                Traceback (most recent call last)",
      "\u001b[0;32m<ipython-input-13-54ae120867af>\u001b[0m in \u001b[0;36m<module>\u001b[0;34m\u001b[0m\n\u001b[1;32m     19\u001b[0m \u001b[0mplt\u001b[0m\u001b[0;34m.\u001b[0m\u001b[0mylabel\u001b[0m\u001b[0;34m(\u001b[0m\u001b[0;34m'AU-PRO'\u001b[0m\u001b[0;34m)\u001b[0m\u001b[0;34m\u001b[0m\u001b[0;34m\u001b[0m\u001b[0m\n\u001b[1;32m     20\u001b[0m \u001b[0mplt\u001b[0m\u001b[0;34m.\u001b[0m\u001b[0mtitle\u001b[0m\u001b[0;34m(\u001b[0m\u001b[0;34m\"AU-PRO values based on different integration limits\"\u001b[0m\u001b[0;34m,\u001b[0m \u001b[0msize\u001b[0m\u001b[0;34m=\u001b[0m\u001b[0;36m18\u001b[0m\u001b[0;34m)\u001b[0m\u001b[0;34m\u001b[0m\u001b[0;34m\u001b[0m\u001b[0m\n\u001b[0;32m---> 21\u001b[0;31m \u001b[0mplt\u001b[0m\u001b[0;34m.\u001b[0m\u001b[0mplot\u001b[0m\u001b[0;34m(\u001b[0m\u001b[0mlimits\u001b[0m\u001b[0;34m,\u001b[0m \u001b[0mmean_au_pro_15\u001b[0m\u001b[0;34m,\u001b[0m \u001b[0mlabel\u001b[0m\u001b[0;34m=\u001b[0m\u001b[0;34m'15 steps'\u001b[0m\u001b[0;34m)\u001b[0m\u001b[0;34m\u001b[0m\u001b[0;34m\u001b[0m\u001b[0m\n\u001b[0m\u001b[1;32m     22\u001b[0m \u001b[0mplt\u001b[0m\u001b[0;34m.\u001b[0m\u001b[0mplot\u001b[0m\u001b[0;34m(\u001b[0m\u001b[0mlimits\u001b[0m\u001b[0;34m,\u001b[0m \u001b[0mmean_au_pro_20\u001b[0m\u001b[0;34m,\u001b[0m \u001b[0mlabel\u001b[0m\u001b[0;34m=\u001b[0m\u001b[0;34m'20 steps'\u001b[0m\u001b[0;34m)\u001b[0m\u001b[0;34m\u001b[0m\u001b[0;34m\u001b[0m\u001b[0m\n\u001b[1;32m     23\u001b[0m \u001b[0mplt\u001b[0m\u001b[0;34m.\u001b[0m\u001b[0mplot\u001b[0m\u001b[0;34m(\u001b[0m\u001b[0mlimits\u001b[0m\u001b[0;34m,\u001b[0m \u001b[0mmean_au_pro_25\u001b[0m\u001b[0;34m,\u001b[0m \u001b[0mlabel\u001b[0m\u001b[0;34m=\u001b[0m\u001b[0;34m'25 steps'\u001b[0m\u001b[0;34m)\u001b[0m\u001b[0;34m\u001b[0m\u001b[0;34m\u001b[0m\u001b[0m\n",
      "\u001b[0;32m~/.conda/envs/pvd/lib/python3.6/site-packages/matplotlib/pyplot.py\u001b[0m in \u001b[0;36mplot\u001b[0;34m(scalex, scaley, data, *args, **kwargs)\u001b[0m\n\u001b[1;32m   2840\u001b[0m     return gca().plot(\n\u001b[1;32m   2841\u001b[0m         \u001b[0;34m*\u001b[0m\u001b[0margs\u001b[0m\u001b[0;34m,\u001b[0m \u001b[0mscalex\u001b[0m\u001b[0;34m=\u001b[0m\u001b[0mscalex\u001b[0m\u001b[0;34m,\u001b[0m \u001b[0mscaley\u001b[0m\u001b[0;34m=\u001b[0m\u001b[0mscaley\u001b[0m\u001b[0;34m,\u001b[0m\u001b[0;34m\u001b[0m\u001b[0;34m\u001b[0m\u001b[0m\n\u001b[0;32m-> 2842\u001b[0;31m         **({\"data\": data} if data is not None else {}), **kwargs)\n\u001b[0m\u001b[1;32m   2843\u001b[0m \u001b[0;34m\u001b[0m\u001b[0m\n\u001b[1;32m   2844\u001b[0m \u001b[0;34m\u001b[0m\u001b[0m\n",
      "\u001b[0;32m~/.conda/envs/pvd/lib/python3.6/site-packages/matplotlib/axes/_axes.py\u001b[0m in \u001b[0;36mplot\u001b[0;34m(self, scalex, scaley, data, *args, **kwargs)\u001b[0m\n\u001b[1;32m   1741\u001b[0m         \"\"\"\n\u001b[1;32m   1742\u001b[0m         \u001b[0mkwargs\u001b[0m \u001b[0;34m=\u001b[0m \u001b[0mcbook\u001b[0m\u001b[0;34m.\u001b[0m\u001b[0mnormalize_kwargs\u001b[0m\u001b[0;34m(\u001b[0m\u001b[0mkwargs\u001b[0m\u001b[0;34m,\u001b[0m \u001b[0mmlines\u001b[0m\u001b[0;34m.\u001b[0m\u001b[0mLine2D\u001b[0m\u001b[0;34m)\u001b[0m\u001b[0;34m\u001b[0m\u001b[0;34m\u001b[0m\u001b[0m\n\u001b[0;32m-> 1743\u001b[0;31m         \u001b[0mlines\u001b[0m \u001b[0;34m=\u001b[0m \u001b[0;34m[\u001b[0m\u001b[0;34m*\u001b[0m\u001b[0mself\u001b[0m\u001b[0;34m.\u001b[0m\u001b[0m_get_lines\u001b[0m\u001b[0;34m(\u001b[0m\u001b[0;34m*\u001b[0m\u001b[0margs\u001b[0m\u001b[0;34m,\u001b[0m \u001b[0mdata\u001b[0m\u001b[0;34m=\u001b[0m\u001b[0mdata\u001b[0m\u001b[0;34m,\u001b[0m \u001b[0;34m**\u001b[0m\u001b[0mkwargs\u001b[0m\u001b[0;34m)\u001b[0m\u001b[0;34m]\u001b[0m\u001b[0;34m\u001b[0m\u001b[0;34m\u001b[0m\u001b[0m\n\u001b[0m\u001b[1;32m   1744\u001b[0m         \u001b[0;32mfor\u001b[0m \u001b[0mline\u001b[0m \u001b[0;32min\u001b[0m \u001b[0mlines\u001b[0m\u001b[0;34m:\u001b[0m\u001b[0;34m\u001b[0m\u001b[0;34m\u001b[0m\u001b[0m\n\u001b[1;32m   1745\u001b[0m             \u001b[0mself\u001b[0m\u001b[0;34m.\u001b[0m\u001b[0madd_line\u001b[0m\u001b[0;34m(\u001b[0m\u001b[0mline\u001b[0m\u001b[0;34m)\u001b[0m\u001b[0;34m\u001b[0m\u001b[0;34m\u001b[0m\u001b[0m\n",
      "\u001b[0;32m~/.conda/envs/pvd/lib/python3.6/site-packages/matplotlib/axes/_base.py\u001b[0m in \u001b[0;36m__call__\u001b[0;34m(self, data, *args, **kwargs)\u001b[0m\n\u001b[1;32m    271\u001b[0m                 \u001b[0mthis\u001b[0m \u001b[0;34m+=\u001b[0m \u001b[0margs\u001b[0m\u001b[0;34m[\u001b[0m\u001b[0;36m0\u001b[0m\u001b[0;34m]\u001b[0m\u001b[0;34m,\u001b[0m\u001b[0;34m\u001b[0m\u001b[0;34m\u001b[0m\u001b[0m\n\u001b[1;32m    272\u001b[0m                 \u001b[0margs\u001b[0m \u001b[0;34m=\u001b[0m \u001b[0margs\u001b[0m\u001b[0;34m[\u001b[0m\u001b[0;36m1\u001b[0m\u001b[0;34m:\u001b[0m\u001b[0;34m]\u001b[0m\u001b[0;34m\u001b[0m\u001b[0;34m\u001b[0m\u001b[0m\n\u001b[0;32m--> 273\u001b[0;31m             \u001b[0;32myield\u001b[0m \u001b[0;32mfrom\u001b[0m \u001b[0mself\u001b[0m\u001b[0;34m.\u001b[0m\u001b[0m_plot_args\u001b[0m\u001b[0;34m(\u001b[0m\u001b[0mthis\u001b[0m\u001b[0;34m,\u001b[0m \u001b[0mkwargs\u001b[0m\u001b[0;34m)\u001b[0m\u001b[0;34m\u001b[0m\u001b[0;34m\u001b[0m\u001b[0m\n\u001b[0m\u001b[1;32m    274\u001b[0m \u001b[0;34m\u001b[0m\u001b[0m\n\u001b[1;32m    275\u001b[0m     \u001b[0;32mdef\u001b[0m \u001b[0mget_next_color\u001b[0m\u001b[0;34m(\u001b[0m\u001b[0mself\u001b[0m\u001b[0;34m)\u001b[0m\u001b[0;34m:\u001b[0m\u001b[0;34m\u001b[0m\u001b[0;34m\u001b[0m\u001b[0m\n",
      "\u001b[0;32m~/.conda/envs/pvd/lib/python3.6/site-packages/matplotlib/axes/_base.py\u001b[0m in \u001b[0;36m_plot_args\u001b[0;34m(self, tup, kwargs)\u001b[0m\n\u001b[1;32m    397\u001b[0m \u001b[0;34m\u001b[0m\u001b[0m\n\u001b[1;32m    398\u001b[0m         \u001b[0;32mif\u001b[0m \u001b[0mx\u001b[0m\u001b[0;34m.\u001b[0m\u001b[0mshape\u001b[0m\u001b[0;34m[\u001b[0m\u001b[0;36m0\u001b[0m\u001b[0;34m]\u001b[0m \u001b[0;34m!=\u001b[0m \u001b[0my\u001b[0m\u001b[0;34m.\u001b[0m\u001b[0mshape\u001b[0m\u001b[0;34m[\u001b[0m\u001b[0;36m0\u001b[0m\u001b[0;34m]\u001b[0m\u001b[0;34m:\u001b[0m\u001b[0;34m\u001b[0m\u001b[0;34m\u001b[0m\u001b[0m\n\u001b[0;32m--> 399\u001b[0;31m             raise ValueError(f\"x and y must have same first dimension, but \"\n\u001b[0m\u001b[1;32m    400\u001b[0m                              f\"have shapes {x.shape} and {y.shape}\")\n\u001b[1;32m    401\u001b[0m         \u001b[0;32mif\u001b[0m \u001b[0mx\u001b[0m\u001b[0;34m.\u001b[0m\u001b[0mndim\u001b[0m \u001b[0;34m>\u001b[0m \u001b[0;36m2\u001b[0m \u001b[0;32mor\u001b[0m \u001b[0my\u001b[0m\u001b[0;34m.\u001b[0m\u001b[0mndim\u001b[0m \u001b[0;34m>\u001b[0m \u001b[0;36m2\u001b[0m\u001b[0;34m:\u001b[0m\u001b[0;34m\u001b[0m\u001b[0;34m\u001b[0m\u001b[0m\n",
      "\u001b[0;31mValueError\u001b[0m: x and y must have same first dimension, but have shapes (11,) and (1,)"
     ]
    },
    {
     "data": {
      "image/png": "[encoded data removed]",
      "text/plain": [
       "<Figure size 720x576 with 1 Axes>"
      ]
     },
     "metadata": {
      "needs_background": "light"
     },
     "output_type": "display_data"
    }
   ],
   "source": [
    "# plt.figure()\n",
    "# plt.xlabel('False positive rate')\n",
    "# plt.ylabel('PRO value')\n",
    "# for i, lim in enumerate(limits):\n",
    "#     fpr, pro = mean_curve[i]\n",
    "#     plt.plot(fpr, pro, label=lim)\n",
    "    \n",
    "# plt.legend()\n",
    "# plt.show()\n",
    "# plt.savefig(os.path.join(output_dir,'pro_curve_%s.png' % (type_of_data)))\n",
    "\n",
    "\n",
    "#The PRO [4] metric, defined as the average relative\n",
    "# overlap of the binary prediction P with each ground truth connected component Ck where K denotes the number of\n",
    "# ground truth components. The final metric is computed by\n",
    "# integrating this curve up to some false positive rate and normalizing\n",
    "fig = plt.figure(figsize=(10, 8))\n",
    "plt.xlabel('Integration limit')\n",
    "plt.ylabel('AU-PRO')\n",
    "plt.title(\"AU-PRO values based on different integration limits\", size=18)\n",
    "plt.plot(limits, mean_au_pro_15, label='15 steps')\n",
    "plt.plot(limits, mean_au_pro_20, label='20 steps')\n",
    "plt.plot(limits, mean_au_pro_25, label='25 steps')\n",
    "plt.plot(limits, mean_au_pro_50, label='50 steps')\n",
    "plt.plot(limits, mean_au_pro_100, label='100 steps')\n",
    "plt.plot(limits, mean_au_pro_150, label='150 steps')\n",
    "plt.plot(limits, mean_au_pro_250, label='250 steps')\n",
    "plt.grid()\n",
    "plt.legend()\n",
    "\n",
    "plt.savefig('au_pro_values_all_steps.jpg')\n",
    "# plt.savefig('au_pro_values_all_steps_no_grid.jpg')\n"
   ]
  },
  {
   "cell_type": "code",
   "execution_count": 100,
   "metadata": {},
   "outputs": [
    {
     "data": {
      "text/plain": [
       "array([0.        , 0.35392285, 0.47091306, 0.56380517, 0.641167  ,\n",
       "       0.68916807, 0.72116878, 0.74402644, 0.76116967, 0.77450331,\n",
       "       0.78517021])"
      ]
     },
     "execution_count": 100,
     "metadata": {},
     "output_type": "execute_result"
    }
   ],
   "source": [
    "mean_au_pro_50"
   ]
  },
  {
   "cell_type": "code",
   "execution_count": null,
   "metadata": {},
   "outputs": [],
   "source": []
  }
 ],
 "metadata": {
  "kernelspec": {
   "display_name": "pvd",
   "language": "python",
   "name": "python3"
  },
  "language_info": {
   "codemirror_mode": {
    "name": "ipython",
    "version": 3
   },
   "file_extension": ".py",
   "mimetype": "text/x-python",
   "name": "python",
   "nbconvert_exporter": "python",
   "pygments_lexer": "ipython3",
   "version": "3.6.13"
  },
  "orig_nbformat": 4
 },
 "nbformat": 4,
 "nbformat_minor": 2
}
